import pandas as pd
import random
from datetime import datetime

# Charger le fichier
df = pd.read_excel("maillot de bain-Kids.xlsx")

# Ajouter les colonnes
now = datetime.now().strftime("%Y-%m-%d %H:%M:%S")
df["description"] = df["nom"] + " - Kids"
df["prix"] = df.get("prix", 0)  # Si 'prix' n'existe pas, ajouter la colonne avec 0
df["date_creation"] = now
df["date_modification"] = now
df["createur"] = 1
df["type_produit_id"] = 21
df["categorie"] = "Kids"
df["quantite_stock"] = [random.randint(5, 100) for _ in range(len(df))]
df["sport"] = "natation"
df["offre_speciale"] = "non"

# Réorganiser les colonnes selon la table produit
colonnes_produit = [
    "nom", "description", "prix", "image", "date_creation", "date_modification",
    "createur", "type_produit_id", "categorie", "quantite_stock", "sport", "offre_speciale"
]
df = df[colonnes_produit]

# Enregistrer le fichier modifié
df.to_excel("maillot_bain_produits_complet.xlsx", index=False)
